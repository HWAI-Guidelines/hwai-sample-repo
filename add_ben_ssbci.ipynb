{
 "cells": [
  {
   "cell_type": "code",
   "execution_count": 1,
   "id": "c248f66d",
   "metadata": {},
   "outputs": [],
   "source": [
    "#Importing Libraries\n",
    "import numpy as np\n",
    "import pandas as pd\n",
    "import warnings\n",
    "warnings.filterwarnings(\"ignore\")\n",
    "\n",
    "import os\n",
    "from itertools import repeat"
   ]
  },
  {
   "cell_type": "code",
   "execution_count": 2,
   "id": "a98c4a33",
   "metadata": {},
   "outputs": [],
   "source": [
    "data_loc = \"C:/Users/Charan.Teja/Charan new onedrive/OneDrive - TEG Business Solutions Pvt Ltd/work data/AEP Work/AEP_2025/Mock_Run/Data_Preparation/SSBCI/Intermediate/\""
   ]
  },
  {
   "cell_type": "code",
   "execution_count": 3,
   "id": "1c47dcc5",
   "metadata": {},
   "outputs": [
    {
     "data": {
      "text/html": [
       "<div>\n",
       "<style scoped>\n",
       "    .dataframe tbody tr th:only-of-type {\n",
       "        vertical-align: middle;\n",
       "    }\n",
       "\n",
       "    .dataframe tbody tr th {\n",
       "        vertical-align: top;\n",
       "    }\n",
       "\n",
       "    .dataframe thead th {\n",
       "        text-align: right;\n",
       "    }\n",
       "</style>\n",
       "<table border=\"1\" class=\"dataframe\">\n",
       "  <thead>\n",
       "    <tr style=\"text-align: right;\">\n",
       "      <th></th>\n",
       "      <th>bid_id</th>\n",
       "      <th>pbp_vbid_group_id</th>\n",
       "      <th>pbp_b19b_states_ehc_ssbci</th>\n",
       "      <th>Year</th>\n",
       "    </tr>\n",
       "  </thead>\n",
       "  <tbody>\n",
       "    <tr>\n",
       "      <th>0</th>\n",
       "      <td>H0028_007_0</td>\n",
       "      <td>2</td>\n",
       "      <td>01111111111111110000</td>\n",
       "      <td>2024</td>\n",
       "    </tr>\n",
       "    <tr>\n",
       "      <th>1</th>\n",
       "      <td>H0028_014_0</td>\n",
       "      <td>1</td>\n",
       "      <td>01111111111111110000</td>\n",
       "      <td>2024</td>\n",
       "    </tr>\n",
       "  </tbody>\n",
       "</table>\n",
       "</div>"
      ],
      "text/plain": [
       "        bid_id pbp_vbid_group_id pbp_b19b_states_ehc_ssbci  Year\n",
       "0  H0028_007_0                 2      01111111111111110000  2024\n",
       "1  H0028_014_0                 1      01111111111111110000  2024"
      ]
     },
     "execution_count": 3,
     "metadata": {},
     "output_type": "execute_result"
    }
   ],
   "source": [
    "data = pd.read_csv(data_loc + \"add_ben_ssbci_19_24_input.csv\", dtype='str')\n",
    "data.head(2)"
   ]
  },
  {
   "cell_type": "code",
   "execution_count": 4,
   "id": "1dd6a938",
   "metadata": {},
   "outputs": [
    {
     "name": "stdout",
     "output_type": "stream",
     "text": [
      "<class 'pandas.core.frame.DataFrame'>\n",
      "RangeIndex: 1503 entries, 0 to 1502\n",
      "Data columns (total 4 columns):\n",
      " #   Column                     Non-Null Count  Dtype \n",
      "---  ------                     --------------  ----- \n",
      " 0   bid_id                     1503 non-null   object\n",
      " 1   pbp_vbid_group_id          1503 non-null   object\n",
      " 2   pbp_b19b_states_ehc_ssbci  1503 non-null   object\n",
      " 3   Year                       1503 non-null   object\n",
      "dtypes: object(4)\n",
      "memory usage: 47.1+ KB\n"
     ]
    }
   ],
   "source": [
    "data.info()"
   ]
  },
  {
   "cell_type": "code",
   "execution_count": 5,
   "id": "37c78a8d",
   "metadata": {},
   "outputs": [
    {
     "data": {
      "text/html": [
       "<div>\n",
       "<style scoped>\n",
       "    .dataframe tbody tr th:only-of-type {\n",
       "        vertical-align: middle;\n",
       "    }\n",
       "\n",
       "    .dataframe tbody tr th {\n",
       "        vertical-align: top;\n",
       "    }\n",
       "\n",
       "    .dataframe thead th {\n",
       "        text-align: right;\n",
       "    }\n",
       "</style>\n",
       "<table border=\"1\" class=\"dataframe\">\n",
       "  <thead>\n",
       "    <tr style=\"text-align: right;\">\n",
       "      <th></th>\n",
       "      <th>bid_id</th>\n",
       "      <th>pbp_vbid_group_id</th>\n",
       "      <th>pbp_b19b_states_ehc_ssbci</th>\n",
       "      <th>Year</th>\n",
       "    </tr>\n",
       "  </thead>\n",
       "  <tbody>\n",
       "    <tr>\n",
       "      <th>477</th>\n",
       "      <td>H3239_020_0</td>\n",
       "      <td>1</td>\n",
       "      <td>01111111111111111100</td>\n",
       "      <td>2024</td>\n",
       "    </tr>\n",
       "  </tbody>\n",
       "</table>\n",
       "</div>"
      ],
      "text/plain": [
       "          bid_id pbp_vbid_group_id pbp_b19b_states_ehc_ssbci  Year\n",
       "477  H3239_020_0                 1      01111111111111111100  2024"
      ]
     },
     "execution_count": 5,
     "metadata": {},
     "output_type": "execute_result"
    }
   ],
   "source": [
    "data[data['bid_id'] == 'H3239_020_0']"
   ]
  },
  {
   "cell_type": "code",
   "execution_count": 6,
   "id": "7ab0d3fd",
   "metadata": {},
   "outputs": [],
   "source": [
    "data.to_csv('ssbci_add_ben_check.csv', index=False)"
   ]
  },
  {
   "cell_type": "code",
   "execution_count": 7,
   "id": "130e31be",
   "metadata": {},
   "outputs": [
    {
     "data": {
      "text/html": [
       "<div>\n",
       "<style scoped>\n",
       "    .dataframe tbody tr th:only-of-type {\n",
       "        vertical-align: middle;\n",
       "    }\n",
       "\n",
       "    .dataframe tbody tr th {\n",
       "        vertical-align: top;\n",
       "    }\n",
       "\n",
       "    .dataframe thead th {\n",
       "        text-align: right;\n",
       "    }\n",
       "</style>\n",
       "<table border=\"1\" class=\"dataframe\">\n",
       "  <thead>\n",
       "    <tr style=\"text-align: right;\">\n",
       "      <th></th>\n",
       "      <th>bid_id</th>\n",
       "      <th>pbp_vbid_group_id</th>\n",
       "      <th>pbp_b19b_states_ehc_ssbci</th>\n",
       "      <th>Year</th>\n",
       "    </tr>\n",
       "  </thead>\n",
       "  <tbody>\n",
       "    <tr>\n",
       "      <th>477</th>\n",
       "      <td>H3239_020_0</td>\n",
       "      <td>1</td>\n",
       "      <td>1111111111111111100</td>\n",
       "      <td>2024</td>\n",
       "    </tr>\n",
       "  </tbody>\n",
       "</table>\n",
       "</div>"
      ],
      "text/plain": [
       "          bid_id  pbp_vbid_group_id  pbp_b19b_states_ehc_ssbci  Year\n",
       "477  H3239_020_0                  1        1111111111111111100  2024"
      ]
     },
     "execution_count": 7,
     "metadata": {},
     "output_type": "execute_result"
    }
   ],
   "source": [
    "data = pd.read_csv('ssbci_add_ben_check.csv')\n",
    "data[data['bid_id'] == 'H3239_020_0']"
   ]
  },
  {
   "cell_type": "code",
   "execution_count": null,
   "id": "f78f7f38",
   "metadata": {},
   "outputs": [],
   "source": []
  },
  {
   "cell_type": "code",
   "execution_count": 8,
   "id": "319ea9ee",
   "metadata": {},
   "outputs": [
    {
     "name": "stdout",
     "output_type": "stream",
     "text": [
      "<class 'pandas.core.frame.DataFrame'>\n",
      "RangeIndex: 1503 entries, 0 to 1502\n",
      "Data columns (total 4 columns):\n",
      " #   Column                     Non-Null Count  Dtype \n",
      "---  ------                     --------------  ----- \n",
      " 0   bid_id                     1503 non-null   object\n",
      " 1   pbp_vbid_group_id          1503 non-null   int64 \n",
      " 2   pbp_b19b_states_ehc_ssbci  1503 non-null   uint64\n",
      " 3   Year                       1503 non-null   int64 \n",
      "dtypes: int64(2), object(1), uint64(1)\n",
      "memory usage: 47.1+ KB\n"
     ]
    }
   ],
   "source": [
    "data.info()"
   ]
  },
  {
   "cell_type": "markdown",
   "id": "cefa2f7e",
   "metadata": {},
   "source": [
    "### No. of pos"
   ]
  },
  {
   "cell_type": "code",
   "execution_count": 9,
   "id": "1adf555f",
   "metadata": {},
   "outputs": [],
   "source": [
    "pos_no = 20"
   ]
  },
  {
   "cell_type": "code",
   "execution_count": 10,
   "id": "c1a21a1e",
   "metadata": {},
   "outputs": [],
   "source": [
    "pos_list = []\n",
    "for i in range(pos_no):\n",
    "    pos_list.append(\"pos\"+\"_\"+str(i+1))"
   ]
  },
  {
   "cell_type": "code",
   "execution_count": 11,
   "id": "5a21ea19",
   "metadata": {},
   "outputs": [],
   "source": [
    "data[pos_list] = np.nan\n",
    "\n",
    "data['pbp_b19b_states_ehc_ssbci'].fillna(0,inplace=True)"
   ]
  },
  {
   "cell_type": "code",
   "execution_count": 12,
   "id": "dd8091a7",
   "metadata": {},
   "outputs": [
    {
     "data": {
      "text/plain": [
       "pbp_b19b_states_ehc_ssbci\n",
       "1111111111111110000     476\n",
       "1111111111111111100     201\n",
       "11111111111111111111    170\n",
       "1111111111111111000      87\n",
       "1101000000000000         87\n",
       "                       ... \n",
       "10001111000011010110      1\n",
       "10000001000000            1\n",
       "10000000111000            1\n",
       "1000010000000             1\n",
       "10000000001000            1\n",
       "Name: count, Length: 70, dtype: int64"
      ]
     },
     "execution_count": 12,
     "metadata": {},
     "output_type": "execute_result"
    }
   ],
   "source": [
    "data['pbp_b19b_states_ehc_ssbci'].value_counts()"
   ]
  },
  {
   "cell_type": "code",
   "execution_count": 13,
   "id": "914c63ce",
   "metadata": {},
   "outputs": [],
   "source": [
    "count = 0\n",
    "for i in range(data.shape[0]):\n",
    "    if len(str(int(data['pbp_b19b_states_ehc_ssbci'].iloc[i]))) != 20:\n",
    "        data['pbp_b19b_states_ehc_ssbci'].iloc[i] = str(int(data['pbp_b19b_states_ehc_ssbci'].iloc[i])).zfill(20)\n",
    "    else:\n",
    "        count = count + 1\n",
    "        #print(int(data['pbp_b19b_states_ehc_vbd'].iloc[i]))\n",
    "        data['pbp_b19b_states_ehc_ssbci'].iloc[i] = str(int(data['pbp_b19b_states_ehc_ssbci'].iloc[i]))"
   ]
  },
  {
   "cell_type": "code",
   "execution_count": 14,
   "id": "267b43eb",
   "metadata": {},
   "outputs": [
    {
     "data": {
      "text/plain": [
       "pbp_b19b_states_ehc_ssbci\n",
       "01111111111111110000    476\n",
       "01111111111111111100    201\n",
       "11111111111111111111    170\n",
       "01111111111111111000     87\n",
       "00001101000000000000     87\n",
       "                       ... \n",
       "10001111000011010110      1\n",
       "00000010000001000000      1\n",
       "00000010000000111000      1\n",
       "00000001000010000000      1\n",
       "00000010000000001000      1\n",
       "Name: count, Length: 70, dtype: int64"
      ]
     },
     "execution_count": 14,
     "metadata": {},
     "output_type": "execute_result"
    }
   ],
   "source": [
    "data['pbp_b19b_states_ehc_ssbci'].value_counts()"
   ]
  },
  {
   "cell_type": "code",
   "execution_count": 15,
   "id": "562ff0fc",
   "metadata": {},
   "outputs": [],
   "source": [
    "for i in range(data.shape[0]):\n",
    "    for j in range(20):\n",
    "        if data['pbp_b19b_states_ehc_ssbci'].iloc[i][j] == '0':\n",
    "            data['pos_'+str(j+1)].iloc[i] = 0\n",
    "        elif data['pbp_b19b_states_ehc_ssbci'].iloc[i][j] == '1':\n",
    "            data['pos_'+str(j+1)].iloc[i] = 1"
   ]
  },
  {
   "cell_type": "code",
   "execution_count": 16,
   "id": "9059f9f5",
   "metadata": {},
   "outputs": [
    {
     "name": "stdout",
     "output_type": "stream",
     "text": [
      "<class 'pandas.core.frame.DataFrame'>\n",
      "RangeIndex: 1503 entries, 0 to 1502\n",
      "Data columns (total 24 columns):\n",
      " #   Column                     Non-Null Count  Dtype  \n",
      "---  ------                     --------------  -----  \n",
      " 0   bid_id                     1503 non-null   object \n",
      " 1   pbp_vbid_group_id          1503 non-null   int64  \n",
      " 2   pbp_b19b_states_ehc_ssbci  1503 non-null   object \n",
      " 3   Year                       1503 non-null   int64  \n",
      " 4   pos_1                      1503 non-null   float64\n",
      " 5   pos_2                      1503 non-null   float64\n",
      " 6   pos_3                      1503 non-null   float64\n",
      " 7   pos_4                      1503 non-null   float64\n",
      " 8   pos_5                      1503 non-null   float64\n",
      " 9   pos_6                      1503 non-null   float64\n",
      " 10  pos_7                      1503 non-null   float64\n",
      " 11  pos_8                      1503 non-null   float64\n",
      " 12  pos_9                      1503 non-null   float64\n",
      " 13  pos_10                     1503 non-null   float64\n",
      " 14  pos_11                     1503 non-null   float64\n",
      " 15  pos_12                     1503 non-null   float64\n",
      " 16  pos_13                     1503 non-null   float64\n",
      " 17  pos_14                     1503 non-null   float64\n",
      " 18  pos_15                     1503 non-null   float64\n",
      " 19  pos_16                     1503 non-null   float64\n",
      " 20  pos_17                     1503 non-null   float64\n",
      " 21  pos_18                     1503 non-null   float64\n",
      " 22  pos_19                     1503 non-null   float64\n",
      " 23  pos_20                     1503 non-null   float64\n",
      "dtypes: float64(20), int64(2), object(2)\n",
      "memory usage: 281.9+ KB\n"
     ]
    }
   ],
   "source": [
    "data.info()"
   ]
  },
  {
   "cell_type": "markdown",
   "id": "3a1b3728",
   "metadata": {},
   "source": [
    "### Bringing prevalance data"
   ]
  },
  {
   "cell_type": "code",
   "execution_count": 17,
   "id": "0a1c5843",
   "metadata": {},
   "outputs": [],
   "source": [
    "# v19_loc = \"C:/Users/Charan.Teja/Charan new onedrive/TEG Business Solutions Pvt Ltd/HWAI - TEG-HealthWorks/Data Science/xAI 2023_Feb/Product/4.Modelling/Files/Final_data_Rerun/\"\n",
    "loc_24 = \"C:/Users/Charan.Teja/Charan new onedrive/TEG Business Solutions Pvt Ltd/HWAI - TEG-HealthWorks/AEP Refresh/AEP 2025/AEP 2025 - Dry Run/3. Output Data/Landscape/\""
   ]
  },
  {
   "cell_type": "code",
   "execution_count": 18,
   "id": "3b652e19",
   "metadata": {},
   "outputs": [],
   "source": [
    "# lscape_19_23 = pd.read_csv(v19_loc + 'Final_data_v19.csv')\n",
    "# lscape_19_23 = lscape_19_23[['State','County','bid_id','Year']]\n",
    "\n",
    "lscape_24 = pd.read_csv(loc_24 + 'Landscape_dry_run_10thSept.csv')\n",
    "lscape_24 = lscape_24[['State','County','key_segment1']]\n",
    "lscape_24.rename(columns={'key_segment1':'bid_id'}, inplace=True)\n",
    "lscape_24['Year'] = 2024\n",
    "\n",
    "# lscape_19_24 = pd.concat([lscape_19_23, lscape_24])\n",
    "lscape_19_24 = lscape_24.copy()"
   ]
  },
  {
   "cell_type": "code",
   "execution_count": 19,
   "id": "a6eaad9e",
   "metadata": {},
   "outputs": [],
   "source": [
    "data_lscape_19_24 = lscape_19_24.merge(data, on=['bid_id','Year'], how='left')\n",
    "\n",
    "data_lscape_19_24.fillna(0, inplace=True)"
   ]
  },
  {
   "cell_type": "code",
   "execution_count": 20,
   "id": "971e24a2",
   "metadata": {},
   "outputs": [],
   "source": [
    "mapping_df = pd.read_excel('Chronic cond mapping.xlsx', sheet_name='main data')\n",
    "vbid_map_df = pd.read_excel('Chronic cond mapping.xlsx', sheet_name='vbid')\n",
    "ssbci_map_df = pd.read_excel('Chronic cond mapping.xlsx', sheet_name='ssbci')\n",
    "uf_map_df = pd.read_excel('Chronic cond mapping.xlsx', sheet_name='uf')\n",
    "\n",
    "CC_Prevalance_data_cleaned=pd.read_csv(\"CC_Prevalance_data_cleaned.csv\")"
   ]
  },
  {
   "cell_type": "code",
   "execution_count": 21,
   "id": "918d1d6d",
   "metadata": {},
   "outputs": [],
   "source": [
    "merged=pd.merge(ssbci_map_df,mapping_df,on='Index',how='left')\n",
    "\n",
    "data_lscape_19_24_melted = pd.melt(data_lscape_19_24, id_vars=['State', 'County', 'bid_id', 'Year','pbp_vbid_group_id','pbp_b19b_states_ehc_ssbci'], value_vars=['pos_1', 'pos_2', 'pos_3', 'pos_4', 'pos_5', 'pos_6', 'pos_7', 'pos_8',\n",
    "       'pos_9', 'pos_10','pos_11','pos_12','pos_13','pos_14','pos_15','pos_16','pos_17','pos_18','pos_19','pos_20'])"
   ]
  },
  {
   "cell_type": "code",
   "execution_count": 22,
   "id": "789bcfd9",
   "metadata": {},
   "outputs": [
    {
     "data": {
      "text/plain": [
       "(2718640, 8)"
      ]
     },
     "execution_count": 22,
     "metadata": {},
     "output_type": "execute_result"
    }
   ],
   "source": [
    "data_lscape_19_24_melted.shape"
   ]
  },
  {
   "cell_type": "code",
   "execution_count": 23,
   "id": "034641f0",
   "metadata": {},
   "outputs": [],
   "source": [
    "merged_data = pd.merge(data_lscape_19_24_melted, merged, left_on='variable', right_on='pos_add_ben')"
   ]
  },
  {
   "cell_type": "code",
   "execution_count": 24,
   "id": "241e491f",
   "metadata": {},
   "outputs": [],
   "source": [
    "CC_Prevalance_data_cleaned_melted= pd.melt(CC_Prevalance_data_cleaned, id_vars=['State', 'County'])\n",
    "CC_Prevalance_data_cleaned_melted.rename(columns={'variable':'CMS data', 'value':'value2'},inplace=True)\n",
    "final_result = pd.merge(merged_data, CC_Prevalance_data_cleaned_melted, on=['State', 'County','CMS data'], how='left')"
   ]
  },
  {
   "cell_type": "code",
   "execution_count": 25,
   "id": "1c0b2323",
   "metadata": {},
   "outputs": [],
   "source": [
    "final_result['final_values'] = final_result['value'].astype(float) * final_result['value2'].astype(float)\n",
    "final_result=final_result.pivot_table(values=['final_values'], index=['State', 'County', 'bid_id', 'Year','pbp_vbid_group_id','pbp_b19b_states_ehc_ssbci'], columns='variable', aggfunc='sum')"
   ]
  },
  {
   "cell_type": "code",
   "execution_count": 26,
   "id": "dfc48ea6",
   "metadata": {},
   "outputs": [],
   "source": [
    "final_result.columns =[s2  for (s1,s2) in final_result.columns.tolist()]\n",
    "final_result.reset_index(inplace=True)"
   ]
  },
  {
   "cell_type": "code",
   "execution_count": 27,
   "id": "a37e6efd",
   "metadata": {},
   "outputs": [],
   "source": [
    "data=final_result.copy()"
   ]
  },
  {
   "cell_type": "code",
   "execution_count": 28,
   "id": "4c1b3fd1",
   "metadata": {},
   "outputs": [],
   "source": [
    "data['No_of_chronic_states_ssbci'] = data[pos_list].sum(axis=1)\n",
    "data=data.groupby(by=['State','County','bid_id','Year'],as_index=False).agg('sum')"
   ]
  },
  {
   "cell_type": "code",
   "execution_count": 29,
   "id": "b151410b",
   "metadata": {},
   "outputs": [],
   "source": [
    "op_loc = 'C:/Users/Charan.Teja/Charan new onedrive/OneDrive - TEG Business Solutions Pvt Ltd/work data/AEP Work/AEP_2025/Mock_Run/Data_Preparation/SSBCI/output/'\n",
    "data.to_csv(op_loc+\"Add_ben_chronic_cond_ssbci_final.csv\",index=False)"
   ]
  },
  {
   "cell_type": "code",
   "execution_count": null,
   "id": "8125e676",
   "metadata": {},
   "outputs": [],
   "source": []
  },
  {
   "cell_type": "code",
   "execution_count": null,
   "id": "d35c8882",
   "metadata": {},
   "outputs": [],
   "source": []
  },
  {
   "cell_type": "code",
   "execution_count": null,
   "id": "aee313a8",
   "metadata": {},
   "outputs": [],
   "source": []
  }
 ],
 "metadata": {
  "kernelspec": {
   "display_name": "Python 3 (ipykernel)",
   "language": "python",
   "name": "python3"
  },
  "language_info": {
   "codemirror_mode": {
    "name": "ipython",
    "version": 3
   },
   "file_extension": ".py",
   "mimetype": "text/x-python",
   "name": "python",
   "nbconvert_exporter": "python",
   "pygments_lexer": "ipython3",
   "version": "3.8.8"
  }
 },
 "nbformat": 4,
 "nbformat_minor": 5
}
