{
 "cells": [
  {
   "cell_type": "code",
   "execution_count": 1,
   "id": "c248f66d",
   "metadata": {},
   "outputs": [],
   "source": [
    "#Importing Libraries\n",
    "import numpy as np\n",
    "import pandas as pd\n",
    "import warnings\n",
    "warnings.filterwarnings(\"ignore\")\n",
    "\n",
    "import os\n",
    "from itertools import repeat"
   ]
  },
  {
   "cell_type": "code",
   "execution_count": 2,
   "id": "a98c4a33",
   "metadata": {},
   "outputs": [],
   "source": [
    "data_loc = \"C:/Users/Charan.Teja/Charan new onedrive/OneDrive - TEG Business Solutions Pvt Ltd/work data/AEP Work/AEP_2025/Mock_Run/Data_Preparation/SSBCI/Intermediate/\""
   ]
  },
  {
   "cell_type": "code",
   "execution_count": 3,
   "id": "3de72ead",
   "metadata": {},
   "outputs": [],
   "source": [
    "def add_trailing_zeros(s, num_zeros):\n",
    "    # repeat the zero character and add it to the end of the string\n",
    "    padded_string = s + \"\".join(repeat(\"0\", num_zeros))\n",
    "    return padded_string"
   ]
  },
  {
   "cell_type": "code",
   "execution_count": 4,
   "id": "1c47dcc5",
   "metadata": {},
   "outputs": [
    {
     "data": {
      "text/html": [
       "<div>\n",
       "<style scoped>\n",
       "    .dataframe tbody tr th:only-of-type {\n",
       "        vertical-align: middle;\n",
       "    }\n",
       "\n",
       "    .dataframe tbody tr th {\n",
       "        vertical-align: top;\n",
       "    }\n",
       "\n",
       "    .dataframe thead th {\n",
       "        text-align: right;\n",
       "    }\n",
       "</style>\n",
       "<table border=\"1\" class=\"dataframe\">\n",
       "  <thead>\n",
       "    <tr style=\"text-align: right;\">\n",
       "      <th></th>\n",
       "      <th>bid_id</th>\n",
       "      <th>pbp_vbid_group_id</th>\n",
       "      <th>pbp_b19b_states_ehc_vbd</th>\n",
       "      <th>Year</th>\n",
       "    </tr>\n",
       "  </thead>\n",
       "  <tbody>\n",
       "    <tr>\n",
       "      <th>0</th>\n",
       "      <td>H0028_007_0</td>\n",
       "      <td>1</td>\n",
       "      <td>0.0</td>\n",
       "      <td>2024</td>\n",
       "    </tr>\n",
       "    <tr>\n",
       "      <th>1</th>\n",
       "      <td>H0028_015_0</td>\n",
       "      <td>1</td>\n",
       "      <td>0.0</td>\n",
       "      <td>2024</td>\n",
       "    </tr>\n",
       "  </tbody>\n",
       "</table>\n",
       "</div>"
      ],
      "text/plain": [
       "        bid_id  pbp_vbid_group_id  pbp_b19b_states_ehc_vbd  Year\n",
       "0  H0028_007_0                  1                      0.0  2024\n",
       "1  H0028_015_0                  1                      0.0  2024"
      ]
     },
     "execution_count": 4,
     "metadata": {},
     "output_type": "execute_result"
    }
   ],
   "source": [
    "data = pd.read_csv(data_loc + \"add_ben_vbid_19_24_input.csv\")\n",
    "data.head(2)"
   ]
  },
  {
   "cell_type": "markdown",
   "id": "cefa2f7e",
   "metadata": {},
   "source": [
    "### No. of pos"
   ]
  },
  {
   "cell_type": "code",
   "execution_count": 5,
   "id": "1adf555f",
   "metadata": {},
   "outputs": [],
   "source": [
    "pos_no = 11"
   ]
  },
  {
   "cell_type": "code",
   "execution_count": 6,
   "id": "c1a21a1e",
   "metadata": {},
   "outputs": [],
   "source": [
    "pos_list = []\n",
    "for i in range(pos_no):\n",
    "    pos_list.append(\"pos\"+\"_\"+str(i+1))"
   ]
  },
  {
   "cell_type": "code",
   "execution_count": 7,
   "id": "5a21ea19",
   "metadata": {},
   "outputs": [],
   "source": [
    "data[pos_list] = np.nan\n",
    "\n",
    "data['pbp_b19b_states_ehc_vbd'].fillna(0,inplace=True)"
   ]
  },
  {
   "cell_type": "code",
   "execution_count": 8,
   "id": "dd8091a7",
   "metadata": {},
   "outputs": [
    {
     "data": {
      "text/plain": [
       "pbp_b19b_states_ehc_vbd\n",
       "0.000000e+00    987\n",
       "1.111111e+09     49\n",
       "1.100010e+09     12\n",
       "1.000000e+08      9\n",
       "1.000000e+06      8\n",
       "1.000000e+09      2\n",
       "Name: count, dtype: int64"
      ]
     },
     "execution_count": 8,
     "metadata": {},
     "output_type": "execute_result"
    }
   ],
   "source": [
    "data['pbp_b19b_states_ehc_vbd'].value_counts()"
   ]
  },
  {
   "cell_type": "code",
   "execution_count": 9,
   "id": "914c63ce",
   "metadata": {},
   "outputs": [],
   "source": [
    "count = 0\n",
    "for i in range(data.shape[0]):\n",
    "    if len(str(int(data['pbp_b19b_states_ehc_vbd'].iloc[i]))) != 11:\n",
    "        data['pbp_b19b_states_ehc_vbd'].iloc[i] = str(int(data['pbp_b19b_states_ehc_vbd'].iloc[i])).zfill(10)\n",
    "    else:\n",
    "        count = count + 1\n",
    "        #print(int(data['pbp_b19b_states_ehc_vbd'].iloc[i]))\n",
    "        data['pbp_b19b_states_ehc_vbd'].iloc[i] = str(int(data['pbp_b19b_states_ehc_vbd'].iloc[i]))"
   ]
  },
  {
   "cell_type": "code",
   "execution_count": 10,
   "id": "267b43eb",
   "metadata": {},
   "outputs": [
    {
     "data": {
      "text/plain": [
       "pbp_b19b_states_ehc_vbd\n",
       "0000000000    987\n",
       "1111111111     49\n",
       "1100010001     12\n",
       "0100000000      9\n",
       "0001000000      8\n",
       "1000000000      2\n",
       "Name: count, dtype: int64"
      ]
     },
     "execution_count": 10,
     "metadata": {},
     "output_type": "execute_result"
    }
   ],
   "source": [
    "data['pbp_b19b_states_ehc_vbd'].value_counts()"
   ]
  },
  {
   "cell_type": "code",
   "execution_count": 11,
   "id": "21cadbdd",
   "metadata": {},
   "outputs": [],
   "source": [
    "for i in range(data.shape[0]):\n",
    "    if len(str(int(data['pbp_b19b_states_ehc_vbd'].iloc[i]))) != 11:\n",
    "        data['pbp_b19b_states_ehc_vbd'].iloc[i] = add_trailing_zeros(data['pbp_b19b_states_ehc_vbd'].iloc[i],1)"
   ]
  },
  {
   "cell_type": "code",
   "execution_count": 12,
   "id": "1f6fbc28",
   "metadata": {},
   "outputs": [
    {
     "data": {
      "text/plain": [
       "pbp_b19b_states_ehc_vbd\n",
       "00000000000    987\n",
       "11111111110     49\n",
       "11000100010     12\n",
       "01000000000      9\n",
       "00010000000      8\n",
       "10000000000      2\n",
       "Name: count, dtype: int64"
      ]
     },
     "execution_count": 12,
     "metadata": {},
     "output_type": "execute_result"
    }
   ],
   "source": [
    "data['pbp_b19b_states_ehc_vbd'].value_counts()"
   ]
  },
  {
   "cell_type": "code",
   "execution_count": 13,
   "id": "562ff0fc",
   "metadata": {},
   "outputs": [],
   "source": [
    "for i in range(data.shape[0]):\n",
    "    for j in range(11):\n",
    "        if data['pbp_b19b_states_ehc_vbd'].iloc[i][j] == '0':\n",
    "            data['pos_'+str(j+1)].iloc[i] = 0\n",
    "        elif data['pbp_b19b_states_ehc_vbd'].iloc[i][j] == '1':\n",
    "            data['pos_'+str(j+1)].iloc[i] = 1"
   ]
  },
  {
   "cell_type": "markdown",
   "id": "3a1b3728",
   "metadata": {},
   "source": [
    "### Bringing prevalance data"
   ]
  },
  {
   "cell_type": "code",
   "execution_count": 14,
   "id": "0a1c5843",
   "metadata": {},
   "outputs": [],
   "source": [
    "# v19_loc = \"C:/Users/Charan.Teja/Charan new onedrive/TEG Business Solutions Pvt Ltd/HWAI - TEG-HealthWorks/Data Science/xAI 2023_Feb/Product/4.Modelling/Files/Final_data_Rerun/\"\n",
    "loc_24 = \"C:/Users/Charan.Teja/Charan new onedrive/TEG Business Solutions Pvt Ltd/HWAI - TEG-HealthWorks/AEP Refresh/AEP 2025/AEP 2025 - Dry Run/3. Output Data/Landscape/\""
   ]
  },
  {
   "cell_type": "code",
   "execution_count": 15,
   "id": "3b652e19",
   "metadata": {},
   "outputs": [],
   "source": [
    "# lscape_19_23 = pd.read_csv(v19_loc + 'Final_data_v19.csv')\n",
    "# lscape_19_23 = lscape_19_23[['State','County','bid_id','Year']]\n",
    "\n",
    "lscape_24 = pd.read_csv(loc_24 + 'Landscape_dry_run_10thSept.csv')\n",
    "lscape_24 = lscape_24[['State','County','key_segment1']]\n",
    "lscape_24.rename(columns={'key_segment1':'bid_id'}, inplace=True)\n",
    "lscape_24['Year'] = 2024\n",
    "\n",
    "# lscape_19_24 = pd.concat([lscape_19_23, lscape_24])\n",
    "lscape_19_24 = lscape_24.copy()"
   ]
  },
  {
   "cell_type": "code",
   "execution_count": 16,
   "id": "a6eaad9e",
   "metadata": {},
   "outputs": [],
   "source": [
    "data_lscape_19_24 = lscape_19_24.merge(data, on=['bid_id','Year'], how='left')\n",
    "\n",
    "data_lscape_19_24.fillna(0, inplace=True)"
   ]
  },
  {
   "cell_type": "code",
   "execution_count": 17,
   "id": "971e24a2",
   "metadata": {},
   "outputs": [],
   "source": [
    "mapping_df = pd.read_excel('Chronic cond mapping.xlsx', sheet_name='main data')\n",
    "vbid_map_df = pd.read_excel('Chronic cond mapping.xlsx', sheet_name='vbid')\n",
    "ssbci_map_df = pd.read_excel('Chronic cond mapping.xlsx', sheet_name='ssbci')\n",
    "uf_map_df = pd.read_excel('Chronic cond mapping.xlsx', sheet_name='uf')\n",
    "\n",
    "CC_Prevalance_data_cleaned=pd.read_csv(\"CC_Prevalance_data_cleaned.csv\")"
   ]
  },
  {
   "cell_type": "code",
   "execution_count": 18,
   "id": "918d1d6d",
   "metadata": {},
   "outputs": [],
   "source": [
    "merged=pd.merge(vbid_map_df,mapping_df,on='Index',how='left')\n",
    "\n",
    "data_lscape_19_24_melted = pd.melt(data_lscape_19_24, id_vars=['State', 'County', 'bid_id', 'Year','pbp_vbid_group_id','pbp_b19b_states_ehc_vbd'], value_vars=['pos_1', 'pos_2', 'pos_3', 'pos_4', 'pos_5', 'pos_6', 'pos_7', 'pos_8',\n",
    "       'pos_9', 'pos_10', 'pos_11'])"
   ]
  },
  {
   "cell_type": "code",
   "execution_count": 19,
   "id": "789bcfd9",
   "metadata": {},
   "outputs": [
    {
     "data": {
      "text/plain": [
       "(1582614, 8)"
      ]
     },
     "execution_count": 19,
     "metadata": {},
     "output_type": "execute_result"
    }
   ],
   "source": [
    "data_lscape_19_24_melted.shape"
   ]
  },
  {
   "cell_type": "code",
   "execution_count": 20,
   "id": "034641f0",
   "metadata": {},
   "outputs": [],
   "source": [
    "merged_data = pd.merge(data_lscape_19_24_melted, merged, left_on='variable', right_on='pos_add_ben')"
   ]
  },
  {
   "cell_type": "code",
   "execution_count": 21,
   "id": "241e491f",
   "metadata": {},
   "outputs": [],
   "source": [
    "CC_Prevalance_data_cleaned_melted= pd.melt(CC_Prevalance_data_cleaned, id_vars=['State', 'County'])\n",
    "CC_Prevalance_data_cleaned_melted.rename(columns={'variable':'CMS data', 'value':'value2'},inplace=True)\n",
    "final_result = pd.merge(merged_data, CC_Prevalance_data_cleaned_melted, on=['State', 'County','CMS data'], how='left')"
   ]
  },
  {
   "cell_type": "code",
   "execution_count": 22,
   "id": "1c0b2323",
   "metadata": {},
   "outputs": [],
   "source": [
    "final_result['final_values'] = final_result['value'].astype(float) * final_result['value2'].astype(float)\n",
    "final_result=final_result.pivot_table(values=['final_values'], index=['State', 'County', 'bid_id', 'Year','pbp_vbid_group_id','pbp_b19b_states_ehc_vbd'], columns='variable', aggfunc='sum')"
   ]
  },
  {
   "cell_type": "code",
   "execution_count": 23,
   "id": "dfc48ea6",
   "metadata": {},
   "outputs": [],
   "source": [
    "final_result.columns =[s2  for (s1,s2) in final_result.columns.tolist()]\n",
    "final_result.reset_index(inplace=True)"
   ]
  },
  {
   "cell_type": "code",
   "execution_count": 24,
   "id": "a37e6efd",
   "metadata": {},
   "outputs": [],
   "source": [
    "data=final_result.copy()"
   ]
  },
  {
   "cell_type": "code",
   "execution_count": 25,
   "id": "4c1b3fd1",
   "metadata": {},
   "outputs": [],
   "source": [
    "data['No_of_chronic_states_vbid'] = data[pos_list].sum(axis=1)\n",
    "data=data.groupby(by=['State','County','bid_id','Year'],as_index=False).agg('sum')"
   ]
  },
  {
   "cell_type": "code",
   "execution_count": 26,
   "id": "b151410b",
   "metadata": {},
   "outputs": [],
   "source": [
    "op_loc = 'C:/Users/Charan.Teja/Charan new onedrive/OneDrive - TEG Business Solutions Pvt Ltd/work data/AEP Work/AEP_2025/Mock_Run/Data_Preparation/SSBCI/output/'\n",
    "data.to_csv(op_loc+\"Add_ben_chronic_cond_vbid_final.csv\",index=False)"
   ]
  },
  {
   "cell_type": "code",
   "execution_count": null,
   "id": "8125e676",
   "metadata": {},
   "outputs": [],
   "source": []
  },
  {
   "cell_type": "code",
   "execution_count": null,
   "id": "d35c8882",
   "metadata": {},
   "outputs": [],
   "source": []
  },
  {
   "cell_type": "code",
   "execution_count": null,
   "id": "aee313a8",
   "metadata": {},
   "outputs": [],
   "source": []
  }
 ],
 "metadata": {
  "kernelspec": {
   "display_name": "Python 3 (ipykernel)",
   "language": "python",
   "name": "python3"
  },
  "language_info": {
   "codemirror_mode": {
    "name": "ipython",
    "version": 3
   },
   "file_extension": ".py",
   "mimetype": "text/x-python",
   "name": "python",
   "nbconvert_exporter": "python",
   "pygments_lexer": "ipython3",
   "version": "3.8.8"
  }
 },
 "nbformat": 4,
 "nbformat_minor": 5
}
